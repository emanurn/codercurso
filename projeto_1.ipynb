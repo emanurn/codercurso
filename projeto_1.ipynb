{
 "cells": [
  {
   "cell_type": "code",
   "execution_count": 19,
   "metadata": {},
   "outputs": [],
   "source": [
    "import pandas as pd \n",
    "import requests\n",
    "from plyer import notification\n",
    "from datetime import datetime"
   ]
  },
  {
   "cell_type": "code",
   "execution_count": 31,
   "metadata": {},
   "outputs": [
    {
     "data": {
      "text/plain": [
       "<Response [400]>"
      ]
     },
     "execution_count": 31,
     "metadata": {},
     "output_type": "execute_result"
    }
   ],
   "source": [
    "url = 'https://brasilapi.com.br/api/fipe/marcas/v1/{tipoVeiculo}'\n",
    "response = requests.get(url)\n",
    "response"
   ]
  },
  {
   "cell_type": "code",
   "execution_count": null,
   "metadata": {},
   "outputs": [],
   "source": [
    "def alerta(response):\n",
    "    if response.status_code==400:\n",
    "       titulo=\"Algo esta errado:\"\n",
    "       resultado =\"Bad Request\"\n",
    "    else:\n",
    "        titulo=\"Requisicao bem sucedida\"\n",
    "        resultado=\"OK\"\n",
    "        \n",
    "\n",
    "    data_atual=datetime.now().strftime(\"%d/%m/%Y %H:%M:%S\")\n",
    "\n",
    "    msg=f\"Status da requisição {resultado}. \\nData: {data_atual}\"\n",
    "    \n",
    "    notification.notify(\n",
    "    title=titulo,\n",
    "    message=msg,\n",
    "    app_name=\"Base de dados: Tabela FIPE\", timeout=10)\n",
    "    \n",
    "    \n",
    "alerta(response)\n",
    "\n",
    "data_json=response.json()\n"
   ]
  },
  {
   "cell_type": "code",
   "execution_count": 27,
   "metadata": {},
   "outputs": [
    {
     "data": {
      "text/plain": [
       "<Response [400]>"
      ]
     },
     "execution_count": 27,
     "metadata": {},
     "output_type": "execute_result"
    }
   ],
   "source": [
    "url = 'https://brasilapi.com.br/api/fipe/preco/v1/{codigoFipe}'\n",
    "response1 = requests.get(url)\n",
    "response1"
   ]
  },
  {
   "cell_type": "code",
   "execution_count": null,
   "metadata": {},
   "outputs": [],
   "source": [
    "def alerta(respons1):\n",
    "    if response1.status_code==400:\n",
    "       titulo=\"Algo esta errado:\"\n",
    "       resultado =\"Bad Request\"\n",
    "    else:\n",
    "        titulo=\"Requisicao bem sucedida\"\n",
    "        resultado=\"OK\"\n",
    "       \n",
    "\n",
    "    data_atual=datetime.now().strftime(\"%d/%m/%Y %H:%M:%S\")\n",
    "\n",
    "    msg=f\"Status da requisição {resultado}. \\nData: {data_atual}\"\n",
    "    \n",
    "    notification.notify(\n",
    "    title=titulo,\n",
    "    message=msg,\n",
    "    app_name=\"Base de dados: Tabela FIPE\", timeout=10)\n",
    "    \n",
    "    \n",
    "alerta(response1)\n",
    "\n",
    "data_json=response1.json()\n"
   ]
  },
  {
   "cell_type": "code",
   "execution_count": 32,
   "metadata": {},
   "outputs": [
    {
     "data": {
      "text/plain": [
       "<Response [200]>"
      ]
     },
     "execution_count": 32,
     "metadata": {},
     "output_type": "execute_result"
    }
   ],
   "source": [
    "url = 'https://brasilapi.com.br/api/fipe/tabelas/v1'\n",
    "response2 = requests.get(url)\n",
    "response2"
   ]
  },
  {
   "cell_type": "code",
   "execution_count": 41,
   "metadata": {},
   "outputs": [],
   "source": [
    "def alerta(respons2):\n",
    "    if response2.status_code==400:\n",
    "       titulo=\"Algo esta errado:\"\n",
    "       resultado =\"Bad Request\"\n",
    "    else:\n",
    "        titulo=\"Requisicao bem sucedida\"\n",
    "        resultado=\"OK\"\n",
    "       \n",
    "\n",
    "    data_atual=datetime.now().strftime(\"%d/%m/%Y %H:%M:%S\")\n",
    "\n",
    "    msg=f\"Status da requisição {resultado}. \\nData: {data_atual}\"\n",
    "    \n",
    "    notification.notify(\n",
    "    title=titulo,\n",
    "    message=msg,\n",
    "    app_name=\"Base de dados: Tabela FIPE\", timeout=10)\n",
    "    \n",
    "    \n",
    "alerta(response2)\n",
    " \n",
    "data_json=response2.json()\n"
   ]
  },
  {
   "cell_type": "code",
   "execution_count": null,
   "metadata": {},
   "outputs": [],
   "source": [
    "data_json"
   ]
  },
  {
   "cell_type": "code",
   "execution_count": 43,
   "metadata": {},
   "outputs": [
    {
     "data": {
      "text/html": [
       "<div>\n",
       "<style scoped>\n",
       "    .dataframe tbody tr th:only-of-type {\n",
       "        vertical-align: middle;\n",
       "    }\n",
       "\n",
       "    .dataframe tbody tr th {\n",
       "        vertical-align: top;\n",
       "    }\n",
       "\n",
       "    .dataframe thead th {\n",
       "        text-align: right;\n",
       "    }\n",
       "</style>\n",
       "<table border=\"1\" class=\"dataframe\">\n",
       "  <thead>\n",
       "    <tr style=\"text-align: right;\">\n",
       "      <th></th>\n",
       "      <th>codigo</th>\n",
       "      <th>mes</th>\n",
       "    </tr>\n",
       "  </thead>\n",
       "  <tbody>\n",
       "    <tr>\n",
       "      <th>0</th>\n",
       "      <td>315</td>\n",
       "      <td>novembro/2024</td>\n",
       "    </tr>\n",
       "    <tr>\n",
       "      <th>1</th>\n",
       "      <td>314</td>\n",
       "      <td>outubro/2024</td>\n",
       "    </tr>\n",
       "    <tr>\n",
       "      <th>2</th>\n",
       "      <td>313</td>\n",
       "      <td>setembro/2024</td>\n",
       "    </tr>\n",
       "    <tr>\n",
       "      <th>3</th>\n",
       "      <td>312</td>\n",
       "      <td>agosto/2024</td>\n",
       "    </tr>\n",
       "    <tr>\n",
       "      <th>4</th>\n",
       "      <td>311</td>\n",
       "      <td>julho/2024</td>\n",
       "    </tr>\n",
       "    <tr>\n",
       "      <th>...</th>\n",
       "      <td>...</td>\n",
       "      <td>...</td>\n",
       "    </tr>\n",
       "    <tr>\n",
       "      <th>282</th>\n",
       "      <td>8</td>\n",
       "      <td>janeiro/2006</td>\n",
       "    </tr>\n",
       "    <tr>\n",
       "      <th>283</th>\n",
       "      <td>7</td>\n",
       "      <td>agosto/2005</td>\n",
       "    </tr>\n",
       "    <tr>\n",
       "      <th>284</th>\n",
       "      <td>6</td>\n",
       "      <td>novembro/2005</td>\n",
       "    </tr>\n",
       "    <tr>\n",
       "      <th>285</th>\n",
       "      <td>2</td>\n",
       "      <td>outubro/2005</td>\n",
       "    </tr>\n",
       "    <tr>\n",
       "      <th>286</th>\n",
       "      <td>1</td>\n",
       "      <td>setembro/2005</td>\n",
       "    </tr>\n",
       "  </tbody>\n",
       "</table>\n",
       "<p>287 rows × 2 columns</p>\n",
       "</div>"
      ],
      "text/plain": [
       "     codigo             mes\n",
       "0       315  novembro/2024 \n",
       "1       314   outubro/2024 \n",
       "2       313  setembro/2024 \n",
       "3       312    agosto/2024 \n",
       "4       311     julho/2024 \n",
       "..      ...             ...\n",
       "282       8   janeiro/2006 \n",
       "283       7    agosto/2005 \n",
       "284       6  novembro/2005 \n",
       "285       2   outubro/2005 \n",
       "286       1  setembro/2005 \n",
       "\n",
       "[287 rows x 2 columns]"
      ]
     },
     "execution_count": 43,
     "metadata": {},
     "output_type": "execute_result"
    }
   ],
   "source": [
    "pd.DataFrame(data_json)"
   ]
  }
 ],
 "metadata": {
  "kernelspec": {
   "display_name": "Python 3",
   "language": "python",
   "name": "python3"
  },
  "language_info": {
   "codemirror_mode": {
    "name": "ipython",
    "version": 3
   },
   "file_extension": ".py",
   "mimetype": "text/x-python",
   "name": "python",
   "nbconvert_exporter": "python",
   "pygments_lexer": "ipython3",
   "version": "3.13.0"
  }
 },
 "nbformat": 4,
 "nbformat_minor": 2
}

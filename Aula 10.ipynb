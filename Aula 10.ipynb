{
 "cells": [
  {
   "cell_type": "code",
   "execution_count": null,
   "metadata": {},
   "outputs": [
    {
     "name": "stdout",
     "output_type": "stream",
     "text": [
      "Quantidade de Consoles:  51\n"
     ]
    }
   ],
   "source": [
    "#Exercicio 1\n",
    "\n",
    "import pandas as pd\n",
    "\n",
    "abrir = pd.read_excel(\"best-selling game consoles.xlsx\",\n",
    "                       sheet_name=\"consoles\")\n",
    "\n",
    "print(\"Quantidade de Consoles: \",abrir['Console Name'].count())"
   ]
  },
  {
   "cell_type": "code",
   "execution_count": 39,
   "metadata": {},
   "outputs": [
    {
     "name": "stdout",
     "output_type": "stream",
     "text": [
      "Company\n",
      "Nintendo                   17\n",
      "Sony                        7\n",
      "Sega                        7\n",
      "Microsoft                   4\n",
      "Atari                       4\n",
      "Tectoy                      2\n",
      "Coleco                      2\n",
      "NEC/Hudson Soft[note 6]     1\n",
      "Micro Genius                1\n",
      "Mattel                      1\n",
      "Bandai                      1\n",
      "Nokia                       1\n",
      "Magnavox/Philips            1\n",
      "NEC                         1\n",
      "Philips                     1\n",
      "Name: count, dtype: int64\n"
     ]
    }
   ],
   "source": [
    "#Exercicio 2\n",
    "\n",
    "contagem = abrir['Company'].value_counts()\n",
    "\n",
    "consoles = contagem.sort_values(ascending=False)\n",
    "\n",
    "print(consoles)"
   ]
  },
  {
   "cell_type": "code",
   "execution_count": 70,
   "metadata": {},
   "outputs": [
    {
     "name": "stdout",
     "output_type": "stream",
     "text": [
      "                    Company  count  Market Value\n",
      "0                  Nintendo     17         22615\n",
      "1                      Sony      7          7177\n",
      "2                      Sega      7         10391\n",
      "3                 Microsoft      4          3154\n",
      "4                     Atari      4          4160\n",
      "5                    Tectoy      2          2538\n",
      "6                    Coleco      2           767\n",
      "7   NEC/Hudson Soft[note 6]      1           547\n",
      "8              Micro Genius      1           689\n",
      "9                    Mattel      1           548\n",
      "10                   Bandai      1           913\n",
      "11                    Nokia      1           637\n",
      "12         Magnavox/Philips      1           693\n",
      "13                      NEC      1           387\n",
      "14                  Philips      1           899\n"
     ]
    }
   ],
   "source": [
    "#Exercício 3\n",
    "abrir2=pd.read_csv('company.txt')\n",
    "\n",
    "combinacao = pd.merge(consoles, abrir2[['Company', 'Market Value']], on='Company', how='left')\n",
    "\n",
    "print(combinacao)\n",
    "\n"
   ]
  },
  {
   "cell_type": "code",
   "execution_count": 71,
   "metadata": {},
   "outputs": [
    {
     "name": "stdout",
     "output_type": "stream",
     "text": [
      "3741.0\n"
     ]
    }
   ],
   "source": [
    "#Exercicio 4\n",
    "\n",
    "med_market_value=combinacao['Market Value'].mean()\n",
    "\n",
    "print(med_market_value)"
   ]
  }
 ],
 "metadata": {
  "kernelspec": {
   "display_name": "Python 3",
   "language": "python",
   "name": "python3"
  },
  "language_info": {
   "codemirror_mode": {
    "name": "ipython",
    "version": 3
   },
   "file_extension": ".py",
   "mimetype": "text/x-python",
   "name": "python",
   "nbconvert_exporter": "python",
   "pygments_lexer": "ipython3",
   "version": "3.13.0"
  }
 },
 "nbformat": 4,
 "nbformat_minor": 2
}
